{
 "cells": [
  {
   "cell_type": "markdown",
   "metadata": {},
   "source": [
    "# Desafio de Regressão - Tera\n",
    "\n",
    "Objetivo: desenvolver um modelo de regressão linear (1) interpretável e (2) assertivo.\n",
    "\n",
    "Suporte: https://www.youtube.com/watch?v=NC1P4AFTj54\n",
    "\n",
    "Dados:"
   ]
  }
 ],
 "metadata": {
  "language_info": {
   "name": "python"
  },
  "orig_nbformat": 4
 },
 "nbformat": 4,
 "nbformat_minor": 2
}
